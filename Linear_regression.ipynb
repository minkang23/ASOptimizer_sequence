{
 "cells": [
  {
   "cell_type": "markdown",
   "id": "d6c78212",
   "metadata": {},
   "source": [
    "## Library import"
   ]
  },
  {
   "cell_type": "code",
   "execution_count": 1,
   "id": "3eba474a",
   "metadata": {},
   "outputs": [],
   "source": [
    "import numpy as np\n",
    "import pandas as pd\n",
    "import random\n",
    "import numpy as np\n",
    "from Bio import SeqIO\n",
    "import matplotlib.pyplot as plt\n",
    "from operator import itemgetter \n",
    "from matplotlib import pyplot\n",
    "from collections import Counter\n",
    "import tqdm\n",
    "import statsmodels.formula.api as smf\n",
    "from sklearn.metrics import r2_score\n",
    "from sklearn.linear_model import LinearRegression\n",
    "from sklearn import preprocessing\n",
    "from sklearn.pipeline import make_pipeline\n",
    "from sklearn.preprocessing import StandardScaler\n",
    "from sklearn.linear_model import LinearRegression\n",
    "from sklearn.model_selection import train_test_split\n",
    "\n",
    "SMALL_SIZE = 8\n",
    "MEDIUM_SIZE = 20\n",
    "BIGGER_SIZE = 20\n",
    "\n",
    "plt.rc('font', size=BIGGER_SIZE)          # controls default text sizes\n",
    "plt.rc('axes', titlesize=BIGGER_SIZE)     # fontsize of the axes title\n",
    "plt.rc('axes', labelsize=BIGGER_SIZE)    # fontsize of the x and y labels\n",
    "plt.rc('xtick', labelsize=BIGGER_SIZE)    # fontsize of the tick labels\n",
    "plt.rc('ytick', labelsize=BIGGER_SIZE)    # fontsize of the tick labels\n",
    "plt.rc('legend', fontsize=BIGGER_SIZE)    # legend fontsize\n",
    "plt.rc('figure', titlesize=BIGGER_SIZE)  # fontsize of the figure title\n"
   ]
  },
  {
   "cell_type": "markdown",
   "id": "e48b5df5",
   "metadata": {},
   "source": [
    "## Data load (IDO1 Expression)"
   ]
  },
  {
   "cell_type": "code",
   "execution_count": null,
   "id": "97f71756",
   "metadata": {},
   "outputs": [],
   "source": [
    "sc_path= 'patent_experiments/'\n",
    "baseline_path = 'sfold/'\n",
    "target_DB = pd.read_csv(sc_path+'aso_features_patent.csv') # Experiments and our features ('gibbs','off_gibbs','secondary_structure')\n",
    "\n",
    "df_sfold = pd.read_csv(baseline_path+'sfold.csv')\n",
    "df_sfold_14 = pd.read_excel(baseline_path+'sfold_14mer.xlsx',engine = 'openpyxl')\n",
    "df_sfold_15 = pd.read_excel(baseline_path+'sfold_15mer.xlsx',engine = 'openpyxl')\n",
    "df_sfold_16 = pd.read_excel(baseline_path+'sfold_16mer.xlsx',engine = 'openpyxl')\n",
    "df_sfold_17 = pd.read_excel(baseline_path+'sfold_17mer.xlsx',engine = 'openpyxl') # sfold predictions"
   ]
  },
  {
   "cell_type": "markdown",
   "id": "dad7bbd3",
   "metadata": {},
   "source": [
    "## Entire (Linear Regression)"
   ]
  },
  {
   "cell_type": "code",
   "execution_count": null,
   "id": "825af8b5",
   "metadata": {},
   "outputs": [],
   "source": [
    "elements=['gibbs','off_gibbs','secondary_structure'] \n",
    "\n",
    "X = target_DB[elements]\n",
    "Y = target_DB['Inhibition rate'].values\n",
    "mask = ~target_DB['Inhibition rate'].isna()\n",
    "\n",
    "X = X[mask]\n",
    "\n",
    "Y = Y[mask]\n",
    "Y = 1-Y\n",
    "\n",
    "X_train=X\n",
    "y_train=Y\n",
    "X_test=X\n",
    "y_test=Y"
   ]
  },
  {
   "cell_type": "code",
   "execution_count": null,
   "id": "8a2ae888",
   "metadata": {
    "scrolled": false
   },
   "outputs": [],
   "source": [
    "\n",
    "reg = LinearRegression(fit_intercept=True).fit(X_train, y_train)\n",
    "y_pred = reg.predict(X_test)\n",
    "y_train_pred = reg.predict(X_train)\n",
    "coef = reg.coef_/reg.coef_[0]\n",
    "\n",
    "r_squared = r2_score(y_test, y_pred)\n",
    "\n",
    "fig = plt.figure(figsize=(8, 6))\n",
    "plt.scatter(y_test, y_pred,marker = 'D', c='b',s=20)\n",
    "plt.plot(np.unique(y_test), np.poly1d(np.polyfit(y_test, y_pred, 1))(np.unique(y_test)),color='k')\n",
    "\n",
    "\n",
    "plt.xlabel('Experimental inhibition rate (%)')\n",
    "plt.ylabel('Predicted inhibition rate (%)')\n",
    "plt.xlim([0.1, 1.01])\n",
    "plt.ylim([0.3,1.01])\n",
    "\n",
    "\n",
    "print('Correlation: {:.4f}'.format(np.sqrt(r_squared)))\n",
    "print('R2: {:.4f}'.format(r_squared))\n",
    "\n",
    "plt.show()"
   ]
  },
  {
   "cell_type": "markdown",
   "id": "ff881a54",
   "metadata": {},
   "source": [
    "### Statistical analysis"
   ]
  },
  {
   "cell_type": "code",
   "execution_count": null,
   "id": "423ec2c4",
   "metadata": {},
   "outputs": [],
   "source": [
    "X_train_copy = X_train.copy()\n",
    "X_train_copy['y'] = y_train\n",
    "\n",
    "results = smf.ols('y ~ gibbs + off_gibbs + secondary_structure', data=X_train_copy).fit()\n",
    "\n",
    "# # Inspect the results\n",
    "print(results.summary())\n",
    "print(results.pvalues)"
   ]
  },
  {
   "cell_type": "markdown",
   "id": "bc4f2415",
   "metadata": {},
   "source": [
    "## Entire (Linear Regression, longer samples) "
   ]
  },
  {
   "cell_type": "code",
   "execution_count": null,
   "id": "de67f74a",
   "metadata": {},
   "outputs": [],
   "source": [
    "target_DB_longer = target_DB[target_DB['len_seq']>16]\n",
    "elements=['gibbs','off_gibbs','secondary_structure'] \n",
    "\n",
    "X = target_DB_longer[elements]\n",
    "Y = target_DB_longer['Inhibition rate'].values\n",
    "\n",
    "mask = ~target_DB_longer['Inhibition rate'].isna()\n",
    "\n",
    "\n",
    "X = X[mask]\n",
    "Y = Y[mask]\n",
    "Y = 1-Y\n",
    "\n",
    "X_train=X\n",
    "y_train=Y\n",
    "X_test=X\n",
    "y_test=Y"
   ]
  },
  {
   "cell_type": "code",
   "execution_count": null,
   "id": "e2bc87aa",
   "metadata": {
    "scrolled": false
   },
   "outputs": [],
   "source": [
    "reg = LinearRegression(fit_intercept=True).fit(X_train, y_train)\n",
    "y_pred = reg.predict(X_test)\n",
    "y_train_pred = reg.predict(X_train)\n",
    "coef = reg.coef_/reg.coef_[0]\n",
    "\n",
    "r_squared = r2_score(y_test, y_pred)\n",
    "\n",
    "fig = plt.figure(figsize=(8, 6))\n",
    "plt.scatter(y_test, y_pred,marker = 'D', c='b',s=20)\n",
    "plt.plot(np.unique(y_test), np.poly1d(np.polyfit(y_test, y_pred, 1))(np.unique(y_test)),color='k')\n",
    "\n",
    "\n",
    "plt.xlabel('Experimental inhibition rate (%)')\n",
    "plt.ylabel('Predicted inhibition rate (%)')\n",
    "plt.xlim([0.0, 1.01])\n",
    "plt.ylim([0.3,1.01])\n",
    "\n",
    "\n",
    "print('Correlation: {:.4f}'.format(np.sqrt(r_squared)))\n",
    "print('R2: {:.4f}'.format(r_squared))\n",
    "\n",
    "plt.show()"
   ]
  },
  {
   "cell_type": "markdown",
   "id": "bd28cb88",
   "metadata": {},
   "source": [
    "## sfold-comparison"
   ]
  },
  {
   "cell_type": "code",
   "execution_count": null,
   "id": "9ea2723e",
   "metadata": {},
   "outputs": [],
   "source": [
    "sfold_gibbs=[]\n",
    "for ii in range(len(target_DB)):\n",
    "    atgc_len=target_DB.iloc[ii]['len_seq']\n",
    "    if atgc_len==14:\n",
    "        sfold_gibbs.append(df_sfold_14[df_sfold_14['antisense']==target_DB.iloc[ii]['Sequence']]['gibbs'].values[0])\n",
    "    elif atgc_len==15:\n",
    "        sfold_gibbs.append(df_sfold_15[df_sfold_15['antisense']==target_DB.iloc[ii]['Sequence']]['gibbs '].values[0])        \n",
    "    elif atgc_len==16:\n",
    "        sfold_gibbs.append(df_sfold_16[df_sfold_16['antisense']==target_DB.iloc[ii]['Sequence']]['gibbs'].values[0])        \n",
    "    elif atgc_len==17:\n",
    "        try:        \n",
    "            sfold_gibbs.append(df_sfold_17[df_sfold_17['antisense']==target_DB.iloc[ii]['Sequence']]['gibbs'].values[0])\n",
    "        except IndexError:\n",
    "            sfold_gibbs.append('nan')\n",
    "    else:\n",
    "        try:\n",
    "            sfold_gibbs.append(df_sfold[df_sfold['antisense']==target_DB.iloc[ii]['Sequence']]['gibbs'].values[0])\n",
    "        except IndexError:\n",
    "            sfold_gibbs.append('nan')\n",
    "            \n",
    "sfold_gibbs = np.array(sfold_gibbs)\n",
    "\n",
    "# target_DB['sfold'] = sfolds\n",
    "target_DB['sfold'] = sfold_gibbs\n",
    "target_DB = target_DB[target_DB['binding_site']!=-1]"
   ]
  },
  {
   "cell_type": "code",
   "execution_count": null,
   "id": "3400968d",
   "metadata": {},
   "outputs": [],
   "source": [
    "unique_seq=target_DB['Sequence'].unique()\n",
    "random.seed('2023-08-18')\n",
    "random.shuffle(unique_seq)"
   ]
  },
  {
   "cell_type": "markdown",
   "id": "c8cb9ced",
   "metadata": {},
   "source": [
    "### Train/Test split"
   ]
  },
  {
   "cell_type": "code",
   "execution_count": null,
   "id": "af2ee5fc",
   "metadata": {},
   "outputs": [],
   "source": [
    "train_seq = unique_seq[:int(0.80*len(unique_seq))-1]\n",
    "test_seq = unique_seq[int(0.80*len(unique_seq))-1:]\n",
    "\n",
    "\n",
    "target_DB_train=target_DB[target_DB['Sequence'].isin(train_seq)]\n",
    "target_DB_test=target_DB[target_DB['Sequence'].isin(test_seq)]\n",
    "# target_DB_test[target_DB_test['sfold']!=-1]\n",
    "elements=['gibbs','off_gibbs','secondary_structure'] \n",
    "\n",
    "elements2=['sfold']"
   ]
  },
  {
   "cell_type": "code",
   "execution_count": null,
   "id": "d9bb4ba9",
   "metadata": {},
   "outputs": [],
   "source": [
    "X_train = target_DB_train[elements]\n",
    "X_train_sfold = target_DB_train[elements2]\n",
    "y_train = target_DB_train['Inhibition rate'].values\n",
    "\n",
    "mask = ~target_DB_train['Inhibition rate'].isna()\n",
    "\n",
    "X_train = X_train[mask]\n",
    "X_train_sfold = X_train_sfold[mask]\n",
    "y_train = y_train[mask]\n",
    "y_train = 1-y_train\n",
    "\n",
    "X_test = target_DB_test[elements]\n",
    "X_test_sfold = target_DB_test[elements2]\n",
    "y_test = target_DB_test['Inhibition rate'].values\n",
    "\n",
    "mask = ~target_DB_test['Inhibition rate'].isna()\n",
    "\n",
    "X_test = X_test[mask]\n",
    "X_test_sfold = X_test_sfold[mask]\n",
    "y_test = y_test[mask]\n",
    "y_test = 1-y_test"
   ]
  },
  {
   "cell_type": "code",
   "execution_count": null,
   "id": "1373f0f4",
   "metadata": {},
   "outputs": [],
   "source": [
    "reg = LinearRegression(fit_intercept=True).fit(X_train, y_train)\n",
    "y_pred = reg.predict(X_test)\n",
    "y_train_pred = reg.predict(X_train)\n",
    "coef = reg.coef_/reg.coef_[0]\n",
    "\n",
    "r_squared = r2_score(y_test, y_pred)\n",
    "\n",
    "\n",
    "reg2= LinearRegression(fit_intercept=True).fit(X_train_sfold, y_train)\n",
    "y_pred_sfold = reg2.predict(X_test_sfold)\n",
    "y_train_pred_sfold = reg2.predict(X_train_sfold)\n",
    "coef2 = reg2.coef_/reg2.coef_[0]\n",
    "\n",
    "r_squared_sfold = r2_score(y_test, y_pred_sfold)\n",
    "\n",
    "\n",
    "fig = plt.figure(figsize=(8, 6))\n",
    "plt.scatter(y_test, y_pred,marker = 'D', c='b',s=20)\n",
    "plt.scatter(y_test, y_pred_sfold, marker = 's', c='r',s=20)\n",
    "\n",
    "plt.plot(np.unique(y_test), np.poly1d(np.polyfit(y_test, y_pred, 1))(np.unique(y_test)),color='b')\n",
    "plt.plot(np.unique(y_test), np.poly1d(np.polyfit(y_test, y_pred_sfold, 1))(np.unique(y_test)),color='r')\n",
    "\n",
    "\n",
    "plt.xlabel('Experimental inhibition rate (%)')\n",
    "plt.ylabel('Predicted inhibition rate (%)')\n",
    "plt.xlim([0.1, 1.01])\n",
    "plt.ylim([0.48,1.01])\n",
    "\n",
    "\n",
    "print('Correlation of ASOptimizer: {:.4f}'.format(np.sqrt(r_squared)))\n",
    "print('R2 of ASOptimizer: {:.4f}'.format(r_squared))\n",
    "\n",
    "print('Correlation of sfold: {:.4f}'.format(np.sqrt(r_squared_sfold)))\n",
    "print('R2 of sfold: {:.4f}'.format(r_squared_sfold))\n",
    "\n",
    "plt.show()"
   ]
  }
 ],
 "metadata": {
  "kernelspec": {
   "display_name": "Python 3",
   "language": "python",
   "name": "python3"
  },
  "language_info": {
   "codemirror_mode": {
    "name": "ipython",
    "version": 3
   },
   "file_extension": ".py",
   "mimetype": "text/x-python",
   "name": "python",
   "nbconvert_exporter": "python",
   "pygments_lexer": "ipython3",
   "version": "3.6.9"
  }
 },
 "nbformat": 4,
 "nbformat_minor": 5
}
