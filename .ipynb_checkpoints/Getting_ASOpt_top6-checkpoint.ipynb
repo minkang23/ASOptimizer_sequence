{
 "cells": [
  {
   "cell_type": "markdown",
   "id": "79479970",
   "metadata": {},
   "source": [
    "## Library import"
   ]
  },
  {
   "cell_type": "code",
   "execution_count": 1,
   "id": "e3b47ca4",
   "metadata": {},
   "outputs": [],
   "source": [
    "import pandas as pd\n",
    "import random\n",
    "import os\n",
    "import numpy as np\n",
    "from Bio import SeqIO\n",
    "import matplotlib.pyplot as plt\n",
    "from operator import itemgetter \n",
    "from matplotlib import pyplot\n",
    "from collections import Counter\n",
    "\n",
    "import seaborn as sns\n",
    "import matplotlib.pyplot as plt\n",
    "\n",
    "\n",
    "plt.rc('font', size=20)        \n",
    "plt.rc('axes', labelsize=20)   \n",
    "plt.rc('xtick', labelsize=20) \n",
    "plt.rc('ytick', labelsize=20)  \n",
    "plt.rc('legend', fontsize=20)  \n",
    "plt.rc('figure', titlesize=12) "
   ]
  },
  {
   "cell_type": "markdown",
   "id": "af5de59e",
   "metadata": {},
   "source": [
    "## Data load (Sequence engineering - Fully complementary)"
   ]
  },
  {
   "cell_type": "code",
   "execution_count": 2,
   "id": "dabdb31e",
   "metadata": {},
   "outputs": [],
   "source": [
    "n_length = 19\n",
    "topk=50 \n",
    "Input_path = './features'\n",
    "if not os.path.exists(Input_path): os.mkdir(Input_path)\n",
    "\n",
    "gibbs_target_0 = np.load(Input_path+'/ido_target_gibbs_0.npy')\n",
    "folds_target_0 = np.load(Input_path+'/ido_target_gibbs_folds_0.npy')\n",
    "gibbs_off_target_0 = np.load(Input_path+'/ido_off_target_gibbs_0.npy')\n",
    "\n",
    "gibbs_target_1 = np.load(Input_path+'/ido_target_gibbs_1.npy')\n",
    "folds_target_1 = np.load(Input_path+'/ido_target_gibbs_folds_1.npy')\n",
    "gibbs_off_target_1 = np.load(Input_path+'/ido_off_target_gibbs_1.npy')\n",
    "\n",
    "gibbs_target_2 = np.load(Input_path+'/ido_target_gibbs_2.npy')\n",
    "folds_target_2 = np.load(Input_path+'/ido_target_gibbs_folds_2.npy')\n",
    "gibbs_off_target_2 = np.load(Input_path+'/ido_off_target_gibbs_2.npy')\n",
    "\n",
    "gibbs_target_3 = np.load(Input_path+'/ido_target_gibbs_3.npy')\n",
    "folds_target_3 = np.load(Input_path+'/ido_target_gibbs_folds_3.npy')\n",
    "gibbs_off_target_3 = np.load(Input_path+'/ido_off_target_gibbs_3.npy')\n",
    "\n",
    "gibbs_target_4 = np.load(Input_path+'/ido_target_gibbs_4.npy')\n",
    "folds_target_4 = np.load(Input_path+'/ido_target_gibbs_folds_4.npy')\n",
    "gibbs_off_target_4 = np.load(Input_path+'/ido_off_target_gibbs_4.npy')\n",
    "\n",
    "gibbs_target_5 = np.load(Input_path+'/ido_target_gibbs_5.npy')\n",
    "folds_target_5 = np.load(Input_path+'/ido_target_gibbs_folds_5.npy')\n",
    "gibbs_off_target_5 = np.load(Input_path+'/ido_off_target_gibbs_5.npy')\n",
    "\n",
    "\n",
    "gibbs_target = np.load(Input_path+'/ido_target_gibbs_length19.npy')\n",
    "\n",
    "folds_target=np.concatenate([folds_target_0, folds_target_1, folds_target_2, folds_target_3,folds_target_4,folds_target_5])\n",
    "gibbs_off_target=np.concatenate([gibbs_off_target_0,gibbs_off_target_1, gibbs_off_target_2, gibbs_off_target_3,gibbs_off_target_4,gibbs_off_target_5],axis=0)\n",
    "gibbs_off_target.sort(axis=1)"
   ]
  },
  {
   "cell_type": "markdown",
   "id": "7bd7ae05",
   "metadata": {},
   "source": [
    "## Gettingg fold score (secondary strucuture)"
   ]
  },
  {
   "cell_type": "code",
   "execution_count": 3,
   "id": "cd194782",
   "metadata": {},
   "outputs": [],
   "source": [
    "fold_name = 'm_fold'\n",
    "\n",
    "if fold_name=='RNA_fold':\n",
    "    RNA_fold = '.((.(((..(((..(((((((((..........(((((.((..((((((...((((..(((.(((((((..........)))))))...(((((.((((..((((((.........((((((((((.....))))))..........(((((((........))))))).))))......))))))..)))).)))))((((..((((((((............)))))).)).....))))...(((.....))).....(((((((((((...(((.(((((....)).))).)))..)))))))))))....)))..))))...))))))..))..)))))..........)))))))))...((((.(((((((......)))).(((((((...((((((((..(((((((...))))..))))))))))).................(((((((((...(((((((((.........)))))))))...(((.(((.((((((((...((((....))))(((((((((((((((((((...((((......))))......((((.....))))........((.((((((((((((...(((((...((((((((((((.((((((...)))))).))))((((((((......))))))))..(((((...(((...)))...)))))((((((((.((((((((((((.((((.(((((((((((((((((((...((...)).)))))...))))))....))))))))..((((.((....)))))).....(((((.((((((((..(((........)))..)))).((((((((((....((((....(((.(((((......((((((((........((.((((..(((....)))..)))).)).......)))))))).(((((((...)))))))(((....)))........((((.....)))).((.((((((.....(((..(((((((.(((((((((((((..(((..((((((..((((((((....))...))))))..)))..)))...)))...))))).........)))))))).)))))))))))))))).)).........(((((...)))))...))))).)))..))))....))))))))))............)))).)))))....)))).)).))))))))))..))))))..))..(((((...))))).....................))))))))...))))).))))))..)).)))).))(((((((......................))))))))))))))))))......(((((..(((.((....(((((((...(((((....)))))...))...))))).....((((....))))..)).))))))))...((((((((((((((.........(((...))).........)))).))))))))))........((((((.((((((.....)))).))...)))))).....))))))))((((((((....((((..((((((((...........))))))))......))))...)))))))).....................(((...(((....))))))..)))))))))))..)))))))).))))))))))))))..)))))))..)))))(((((((((.((((((((.((((....)).))))))))))(((.((((.......)).)).))))))))))))...................((((((.((((((...........))).))).)))))).'\n",
    "elif fold_name=='e2e_fold':\n",
    "    RNA_fold= '.......((((...(((((((((..........(((((.((..((((((...((((..(((.(((((((..........))))))).................................(((((((.....)))))))..........((((.(((.(((.........(((.((.(((...))))).))).....................................))).))).)))).....(((.....))).....(((((((((((...(((.((((......).))).)))..)))))))))))....)))..))))...))))))..))..)))))..........)))))))))..)))).....((((......))))...((((((((....(((((((((.........................................(((((((((...(((((((((.........)))))))))...(((.(((.((((((((...((((....))))...........(((((((...((((((..(((..(((....((((...((((.(.(((((............)))))..)...)))).)))))))..)))..))))))..............((((((((......))))))))..)))))))....................((((((.(((((((((.((.((((..(((((..(((((((((((...((...)).)))))...))))))......)))))...(((..(......).)))............................(((((((.(........))))))))..........................((((((((........((.((((..(((....)))..)))).)).......)))))))).(((((((...))))))).(((((....(((.......(((.((.......(.((((((.....(((..(((((((.(((((((((((((..(((..((((((..((((((...........))))))..)))..)))...)))...))))).........)))))))).)))))))))))))))).)..........(((((...)))))...............))..))).......)))...)))))..................)))).))..)))))))))..))))))......(((((...))))).....................................................................................((((.((((.....)))).))))..................((((.(....(((((....)))))....)....))))..................................(((((((((((((..........(.....)..........)))).)))))))))....................................(((((......)))))....((((((((....((((..((((((((...........))))))))......))))...))))))))..........................................)))))))))))..)))))))).))))..............))))))))))))))))).....((((((((.((((....)).))))))))))....................................................((((((.((((((...........))).))).)))))).'\n",
    "elif fold_name=='m_fold':\n",
    "    RNA_fold= '....(((..(((..(((((((((..........(((((.((..((((((...((((..(((......................(((((.(((((.((((..((((((....(((..((((........))))...............(((((((........)))))))....)))....))))))..)))).)))))........((((((..(.....)...)))))).....))))).....(((.....))).....((((..(((((...((..(((((....)).)))..))..)))))..))))....)))..))))...))))))..))..)))))..........))))))))).(((((.....((((......))))...(((((((.....(((...(((..(((((((((.(((...((((...........(((((....((((((.....(((((((((.........))))))))).(((((..(((((((.......((((....)))))))))))...(((((((((.(((((((.((((..((((....(((...((((..(((.......))).(((....))).....)))).)))))))...))))))))))).............((((((((......)))))))).)))))))))...)))))...((..(((((.......(((..(((.(..(((((.((((..((((((((((((...((....)))))))...)))))))....)))).)))))..).)))..))).......)).)))..)))))))).(..((((.......((.((((((..((((((((..(((.((((((....))))))))).((((((((........((.((((..(((....)))..)))).)).......))))))))..(((((((.....(((((((.((((((((......((((.....)))).((.((((((.....(((..(((((((.(((((((((((((..(((..((((((..((((((..((.....))))))))..)))..)))...)))...))))).........)))))))).)))))))))))))))).))...)).))))))....(((((((((..(((.(((............)))..............((((......(((......)))......))))..))).)))))))))..(((((...)))))......)))))))......((((.((((....))))))))..)))))))...............))))).)))............((((.((((.....)))).)))).....)))))))).......))))..)........)))))............(((((((....))))))).))))...(((((((...((((((((((((((.........((.....)).........)))).)))))))))).(((.(((((((((.((((((.....)))).))...))))))....))).)))..((((((((....((((..((((((((...........))))))))......))))...)))))))).........))))))).....)))))))))))).)))...))).(((((....)))))..)))))))...))))).........)))..)))..(((((((((..(((((((.((((....)).))))))))).(((.((((.......)).)).))))))))))))...................(((((..((((((...........))).)))..))))).'\n",
    "elif fold_name=='m_fold_v2':\n",
    "    RNA_fold= '...(((.((((...(((((((((..........(((((.((..((((((...((((..(((.(((((((..........)))))))...(((((.((((..((((((....(((..((.(((((((.....)))))))....))..((((((((........))))))))...)))....))))))..)))).)))))((((.((.((((((..((.....)).)))))).)).....))))...(((.....))).....(((((((((((...(((.(((((....)).))).)))..)))))))))))....)))..))))...))))))..))..)))))..........)))))))))..))))..)))((((......))))..(((((((..(((((((.(((((....((.(((..(((.....(((..........)))......)))...))).)).((((((((.((.(((((((((.(((.(((((..(((((((.......((((....)))))))))))...(((((((((..((((((.((((.((....((((((...((((..((((((....((...)).)))))).....)))).)))))).)).))))))))))((((.....)))).((((((((......)))))))).)))))))))...)))))..))).))))...))))).....)).)))))))).)))))...((((((((((((...((...)).))))))...))))))((((((...(((((((((.((((....))))....(((((((.(((.((...(((((.(((((((...........)))))))....)))))...)).))).)))))))((((((((........((.((((..(((....)))..)))).)).......)))))))).(((((((...)))))))....((((((((......((((.....)))).((.((((((.....(((..(((((((.((((((((....(((((.....(.(((..((..((((((((....))))..))))...))...))).).....)).))).....)))))))).)))))))))))))))).))...)).)))))).)))))))))..)))))).))))))).....))))))).((((..((((..((((((((((..((((.....))))...((....)).))))...))))))(((..(((......)))..))).))))..))))..(((((....))))).(((.((((((((.(((.((...((.(((((((.......((((....((((.((((.....)))).))))(((((.((.((((.........(((...(((((....)))))...)))..))))..)).))))).))))........))))))).)).((((((((((((((.........(((...))).........)))).))))))))))(((((..(((((((.((((..((((.(((((((..((((((....)))))).......)))))))..((((..((((((((...........))))))))......))))..((((((.(((.((((............))))..))).)))).)).))))..))))...)))))))...))))))).)))))))))))....)))....((((((...((((..((((((((.((((....)).)))))))))))))).)))))).....((((((....))).)))...................((((((.((((((...........))).))).)))))).'\n",
    "\n",
    "fold_v1=[]\n",
    "for idx in range(len(gibbs_target)):\n",
    "    fold_v1.append(RNA_fold[idx:idx+n_length])\n",
    "\n",
    "\n",
    "folds_target=[]\n",
    "for ii in range(len(fold_v1)):\n",
    "    folds_target.append(fold_v1[ii].count('.')/len(fold_v1[ii]))\n",
    "\n",
    "folds_target = np.array(folds_target)"
   ]
  },
  {
   "cell_type": "code",
   "execution_count": 4,
   "id": "576d4e2a",
   "metadata": {},
   "outputs": [],
   "source": [
    "gibbs_off_target_top_k =np.mean(gibbs_off_target[:,:topk],axis=1)"
   ]
  },
  {
   "cell_type": "markdown",
   "id": "9bce755f",
   "metadata": {},
   "source": [
    "## Functions"
   ]
  },
  {
   "cell_type": "code",
   "execution_count": 5,
   "id": "1151c331",
   "metadata": {},
   "outputs": [],
   "source": [
    "def make_reverse(aso_seq):\n",
    "    seqs_list=[]\n",
    "    for ii in range(len(aso_seq)):\n",
    "        vec = aso_seq[ii][::-1]\n",
    "        target_seqs=[]\n",
    "        for index in range(len(vec)):\n",
    "            if vec[index] =='G':\n",
    "                target_seqs.append('C')\n",
    "            elif vec[index] =='C':\n",
    "                target_seqs.append('G')\n",
    "            elif vec[index] =='T':\n",
    "                target_seqs.append('A')\n",
    "            elif vec[index] =='A':\n",
    "                target_seqs.append('T')\n",
    "        target_seqs=\"\".join(target_seqs)\n",
    "        seqs_list.append(target_seqs)\n",
    "    return seqs_list\n",
    "\n",
    "\n",
    "def objective_func(target_gibbs, others_gibbs, target_folds, vec_a, ind):  \n",
    "\n",
    "    obj_ftn =  vec_a[0] * target_gibbs + vec_a[1] * others_gibbs +  vec_a[2] * (1-(0.7-target_folds)**2) +  vec_a[3]\n",
    "\n",
    "    rank = np.where(np.argsort(obj_ftn, axis=None)[::-1]==ind)[0]\n",
    "\n",
    "    return obj_ftn,rank\n",
    "\n",
    "\n",
    "def check_rank(seq,vec_a):\n",
    "\n",
    "    search_len=gibbs_target.shape[0]\n",
    "    ranks=[]\n",
    "    for uu in range(len(seq)):\n",
    "        score,rank=objective_func(gibbs_target[:search_len],gibbs_off_target_top_k[:search_len],folds_target[:search_len],vec_a,seq[uu])    \n",
    "        ranks.append(rank[0])    \n",
    "    return ranks, score\n",
    "\n",
    "\n",
    "def print_topk(lists,num,delta=3):\n",
    "    seqs=[]\n",
    "    for ii in range(num):\n",
    "        print(lists[0])\n",
    "        seqs.append(lists[0])\n",
    "\n",
    "        baseline=np.arange(lists[0]-delta+1,lists[0]+delta)\n",
    "\n",
    "        lists = np.array([ele for ele in lists if ele not in baseline])\n",
    "        \n",
    "    seqs = np.array(seqs)\n",
    "    return seqs"
   ]
  },
  {
   "cell_type": "code",
   "execution_count": 6,
   "id": "bf6120a4",
   "metadata": {},
   "outputs": [],
   "source": [
    "candidate=np.arange(gibbs_target.shape[0])\n",
    "full_rank, score = check_rank(candidate,[-0.037, 0.0193, 1.4225,-1.0772]) #a*\n",
    "rank_sorted = np.array(full_rank).argsort()"
   ]
  },
  {
   "cell_type": "code",
   "execution_count": 7,
   "id": "29647cbc",
   "metadata": {},
   "outputs": [],
   "source": [
    "score_mean = np.mean(score) \n",
    "score_std = np.std(score) \n",
    "th_score = score_mean + 2*score_std"
   ]
  },
  {
   "cell_type": "code",
   "execution_count": 8,
   "id": "272eb77b",
   "metadata": {},
   "outputs": [
    {
     "name": "stdout",
     "output_type": "stream",
     "text": [
      "# of samples (> 2sigma): 6\n"
     ]
    }
   ],
   "source": [
    "score.sort()\n",
    "th = score[::-1][6]\n",
    "print(\"# of samples (> 2sigma): {}\".format(len(score[score>th_score])))"
   ]
  },
  {
   "cell_type": "code",
   "execution_count": 9,
   "id": "78f6ce59",
   "metadata": {},
   "outputs": [
    {
     "name": "stderr",
     "output_type": "stream",
     "text": [
      "/home/dclab/hard/genetics/miRNA-main/lib/python3.6/site-packages/seaborn/distributions.py:2619: FutureWarning: `distplot` is a deprecated function and will be removed in a future version. Please adapt your code to use either `displot` (a figure-level function with similar flexibility) or `histplot` (an axes-level function for histograms).\n",
      "  warnings.warn(msg, FutureWarning)\n"
     ]
    },
    {
     "data": {
      "text/plain": [
       "Text(0, 0.5, 'ASO Count')"
      ]
     },
     "execution_count": 9,
     "metadata": {},
     "output_type": "execute_result"
    },
    {
     "data": {
      "image/png": "[encoded data removed]",
      "text/plain": [
       "<Figure size 720x576 with 1 Axes>"
      ]
     },
     "metadata": {
      "needs_background": "light"
     },
     "output_type": "display_data"
    }
   ],
   "source": [
    "plt.figure(figsize=(10,8))\n",
    "value_list = score #  score, score_t\n",
    "sns.distplot(value_list, hist=True, kde=False, #norm_hist=True, rug=True,\n",
    "             bins=60, color = 'blue', \n",
    "             hist_kws={'edgecolor':'black'},\n",
    "             kde_kws={'shade': True,'linewidth': 3})#.set(yticklabels=[0, '', 25,'' ,50])\n",
    "plt.axvline(x=th, color='gray', linestyle='--', label='top 6')  # Adjust linestyle and color as needed\n",
    "\n",
    "# You can also add labels for the vertical line\n",
    "plt.text(th-0.045, 107, r'$\\mu+2\\sigma$', rotation=0, color='black',size=20)\n",
    "\n",
    "Fig_path = './fig'\n",
    "plt.ylabel('ASO Count')"
   ]
  },
  {
   "cell_type": "code",
   "execution_count": 10,
   "id": "01c7406b",
   "metadata": {},
   "outputs": [
    {
     "name": "stdout",
     "output_type": "stream",
     "text": [
      "248\n",
      "971\n",
      "257\n",
      "963\n",
      "968\n",
      "243\n"
     ]
    }
   ],
   "source": [
    "ours = print_topk(rank_sorted,6)"
   ]
  }
 ],
 "metadata": {
  "kernelspec": {
   "display_name": "Python 3",
   "language": "python",
   "name": "python3"
  },
  "language_info": {
   "codemirror_mode": {
    "name": "ipython",
    "version": 3
   },
   "file_extension": ".py",
   "mimetype": "text/x-python",
   "name": "python",
   "nbconvert_exporter": "python",
   "pygments_lexer": "ipython3",
   "version": "3.6.9"
  }
 },
 "nbformat": 4,
 "nbformat_minor": 5
}
